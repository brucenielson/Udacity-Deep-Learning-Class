{
 "cells": [
  {
   "cell_type": "markdown",
   "metadata": {},
   "source": [
    "https://www.tensorflow.org/tutorials/using_gpu"
   ]
  },
  {
   "cell_type": "code",
   "execution_count": 1,
   "metadata": {
    "cellView": "both",
    "colab": {
     "autoexec": {
      "startup": false,
      "wait_interval": 0
     }
    },
    "colab_type": "code",
    "collapsed": true,
    "id": "JLpLa8Jt7Vu4"
   },
   "outputs": [],
   "source": [
    "# These are all the modules we'll be using later. Make sure you can import them\n",
    "# before proceeding further.\n",
    "from __future__ import print_function\n",
    "import numpy as np\n",
    "import tensorflow as tf \n",
    "from six.moves import cPickle as pickle\n",
    "from six.moves import range\n",
    "import time"
   ]
  },
  {
   "cell_type": "markdown",
   "metadata": {
    "colab_type": "text",
    "id": "1HrCK6e17WzV"
   },
   "source": [
    "First reload the data we generated in `1_notmnist.ipynb`."
   ]
  },
  {
   "cell_type": "code",
   "execution_count": 2,
   "metadata": {
    "cellView": "both",
    "colab": {
     "autoexec": {
      "startup": false,
      "wait_interval": 0
     },
     "output_extras": [
      {
       "item_id": 1
      }
     ]
    },
    "colab_type": "code",
    "executionInfo": {
     "elapsed": 19456,
     "status": "ok",
     "timestamp": 1449847956073,
     "user": {
      "color": "",
      "displayName": "",
      "isAnonymous": false,
      "isMe": true,
      "permissionId": "",
      "photoUrl": "",
      "sessionId": "0",
      "userId": ""
     },
     "user_tz": 480
    },
    "id": "y3-cj1bpmuxc",
    "outputId": "0ddb1607-1fc4-4ddb-de28-6c7ab7fb0c33"
   },
   "outputs": [
    {
     "name": "stdout",
     "output_type": "stream",
     "text": [
      "Training set (200000, 28, 28) (200000,)\n",
      "Validation set (10000, 28, 28) (10000,)\n",
      "Test set (10000, 28, 28) (10000,)\n"
     ]
    }
   ],
   "source": [
    "pickle_file = 'notMNIST.pickle'\n",
    "\n",
    "with open(pickle_file, 'rb') as f:\n",
    "  save = pickle.load(f)\n",
    "  train_dataset = save['train_dataset']\n",
    "  train_labels = save['train_labels']\n",
    "  valid_dataset = save['valid_dataset']\n",
    "  valid_labels = save['valid_labels']\n",
    "  test_dataset = save['test_dataset']\n",
    "  test_labels = save['test_labels']\n",
    "  del save  # hint to help gc free up memory\n",
    "  print('Training set', train_dataset.shape, train_labels.shape)\n",
    "  print('Validation set', valid_dataset.shape, valid_labels.shape)\n",
    "  print('Test set', test_dataset.shape, test_labels.shape)"
   ]
  },
  {
   "cell_type": "markdown",
   "metadata": {
    "colab_type": "text",
    "id": "L7aHrm6nGDMB"
   },
   "source": [
    "Reformat into a shape that's more adapted to the models we're going to train:\n",
    "- data as a flat matrix,\n",
    "- labels as float 1-hot encodings."
   ]
  },
  {
   "cell_type": "code",
   "execution_count": 3,
   "metadata": {
    "cellView": "both",
    "colab": {
     "autoexec": {
      "startup": false,
      "wait_interval": 0
     },
     "output_extras": [
      {
       "item_id": 1
      }
     ]
    },
    "colab_type": "code",
    "executionInfo": {
     "elapsed": 19723,
     "status": "ok",
     "timestamp": 1449847956364,
     "user": {
      "color": "",
      "displayName": "",
      "isAnonymous": false,
      "isMe": true,
      "permissionId": "",
      "photoUrl": "",
      "sessionId": "0",
      "userId": ""
     },
     "user_tz": 480
    },
    "id": "IRSyYiIIGIzS",
    "outputId": "2ba0fc75-1487-4ace-a562-cf81cae82793"
   },
   "outputs": [
    {
     "name": "stdout",
     "output_type": "stream",
     "text": [
      "Training set (200000, 784) (200000, 10)\n",
      "Validation set (10000, 784) (10000, 10)\n",
      "Test set (10000, 784) (10000, 10)\n"
     ]
    }
   ],
   "source": [
    "image_size = 28\n",
    "num_labels = 10\n",
    "\n",
    "def reformat(dataset, labels):\n",
    "  dataset = dataset.reshape((-1, image_size * image_size)).astype(np.float32)\n",
    "  # Map 0 to [1.0, 0.0, 0.0 ...], 1 to [0.0, 1.0, 0.0 ...]\n",
    "  labels = (np.arange(num_labels) == labels[:,None]).astype(np.float32)\n",
    "  return dataset, labels\n",
    "train_dataset, train_labels = reformat(train_dataset, train_labels)\n",
    "valid_dataset, valid_labels = reformat(valid_dataset, valid_labels)\n",
    "test_dataset, test_labels = reformat(test_dataset, test_labels)\n",
    "print('Training set', train_dataset.shape, train_labels.shape)\n",
    "print('Validation set', valid_dataset.shape, valid_labels.shape)\n",
    "print('Test set', test_dataset.shape, test_labels.shape)"
   ]
  },
  {
   "cell_type": "code",
   "execution_count": 4,
   "metadata": {},
   "outputs": [
    {
     "name": "stdout",
     "output_type": "stream",
     "text": [
      "[[ 0.  1.  0. ...,  0.  0.  0.]\n",
      " [ 0.  0.  0. ...,  0.  0.  1.]\n",
      " [ 0.  0.  0. ...,  0.  0.  0.]\n",
      " ..., \n",
      " [ 0.  0.  0. ...,  0.  1.  0.]\n",
      " [ 0.  0.  0. ...,  0.  0.  1.]\n",
      " [ 0.  0.  0. ...,  0.  1.  0.]]\n"
     ]
    }
   ],
   "source": [
    "print(valid_labels)"
   ]
  },
  {
   "cell_type": "markdown",
   "metadata": {
    "colab_type": "text",
    "id": "nCLVqyQ5vPPH"
   },
   "source": [
    "We're first going to train a multinomial logistic regression using simple gradient descent.\n",
    "\n",
    "TensorFlow works like this:\n",
    "* First you describe the computation that you want to see performed: what the inputs, the variables, and the operations look like. These get created as nodes over a computation graph. This description is all contained within the block below:\n",
    "\n",
    "      with graph.as_default():\n",
    "          ...\n",
    "\n",
    "* Then you can run the operations on this graph as many times as you want by calling `session.run()`, providing it outputs to fetch from the graph that get returned. This runtime operation is all contained in the block below:\n",
    "\n",
    "      with tf.Session(graph=graph) as session:\n",
    "          ...\n",
    "\n",
    "Let's load all the data into TensorFlow and build the computation graph corresponding to our training:"
   ]
  },
  {
   "cell_type": "markdown",
   "metadata": {},
   "source": [
    "# With CPU"
   ]
  },
  {
   "cell_type": "code",
   "execution_count": 5,
   "metadata": {
    "cellView": "both",
    "colab": {
     "autoexec": {
      "startup": false,
      "wait_interval": 0
     }
    },
    "colab_type": "code",
    "collapsed": true,
    "id": "Nfv39qvtvOl_"
   },
   "outputs": [],
   "source": [
    "# With gradient descent training, even this much data is prohibitive.\n",
    "# Subset the training data for faster turnaround.\n",
    "train_subset = 10000\n",
    "\n",
    "graph = tf.Graph()\n",
    "with graph.as_default(), tf.device('/device:CPU:0'):\n",
    "\n",
    "  # Input data.\n",
    "  # Load the training, validation and test data into constants that are\n",
    "  # attached to the graph.\n",
    "  tf_train_dataset = tf.constant(train_dataset[:train_subset, :])\n",
    "  tf_train_labels = tf.constant(train_labels[:train_subset])\n",
    "  tf_valid_dataset = tf.constant(valid_dataset)\n",
    "  tf_test_dataset = tf.constant(test_dataset)\n",
    "  \n",
    "  # Variables.\n",
    "  # These are the parameters that we are going to be training. The weight\n",
    "  # matrix will be initialized using random values following a (truncated)\n",
    "  # normal distribution. The biases get initialized to zero.\n",
    "  weights = tf.Variable(\n",
    "    tf.truncated_normal([image_size * image_size, num_labels]))\n",
    "  biases = tf.Variable(tf.zeros([num_labels]))\n",
    "  \n",
    "  # Training computation.\n",
    "  # We multiply the inputs with the weight matrix, and add biases. We compute\n",
    "  # the softmax and cross-entropy (it's one operation in TensorFlow, because\n",
    "  # it's very common, and it can be optimized). We take the average of this\n",
    "  # cross-entropy across all training examples: that's our loss.\n",
    "  logits = tf.matmul(tf_train_dataset, weights) + biases\n",
    "  loss = tf.reduce_mean(\n",
    "    tf.nn.softmax_cross_entropy_with_logits(labels=tf_train_labels, logits=logits))\n",
    "  \n",
    "  # Optimizer.\n",
    "  # We are going to find the minimum of this loss using gradient descent.\n",
    "  optimizer = tf.train.GradientDescentOptimizer(0.5).minimize(loss)\n",
    "  \n",
    "  # Predictions for the training, validation, and test data.\n",
    "  # These are not part of training, but merely here so that we can report\n",
    "  # accuracy figures as we train.\n",
    "  train_prediction = tf.nn.softmax(logits)\n",
    "  valid_prediction = tf.nn.softmax(\n",
    "    tf.matmul(tf_valid_dataset, weights) + biases)\n",
    "  test_prediction = tf.nn.softmax(tf.matmul(tf_test_dataset, weights) + biases)"
   ]
  },
  {
   "cell_type": "markdown",
   "metadata": {
    "colab_type": "text",
    "id": "KQcL4uqISHjP"
   },
   "source": [
    "Let's run this computation and iterate:"
   ]
  },
  {
   "cell_type": "code",
   "execution_count": 6,
   "metadata": {
    "cellView": "both",
    "colab": {
     "autoexec": {
      "startup": false,
      "wait_interval": 0
     },
     "output_extras": [
      {
       "item_id": 9
      }
     ]
    },
    "colab_type": "code",
    "executionInfo": {
     "elapsed": 57454,
     "status": "ok",
     "timestamp": 1449847994134,
     "user": {
      "color": "",
      "displayName": "",
      "isAnonymous": false,
      "isMe": true,
      "permissionId": "",
      "photoUrl": "",
      "sessionId": "0",
      "userId": ""
     },
     "user_tz": 480
    },
    "id": "z2cjdenH869W",
    "outputId": "4c037ba1-b526-4d8e-e632-91e2a0333267"
   },
   "outputs": [
    {
     "name": "stdout",
     "output_type": "stream",
     "text": [
      "Initialized\n",
      "Loss at step 0: 19.684185\n",
      "Training accuracy: 7.3%\n",
      "Validation accuracy: 10.2%\n",
      "Loss at step 100: 2.386676\n",
      "Training accuracy: 71.8%\n",
      "Validation accuracy: 69.9%\n",
      "Loss at step 200: 1.894568\n",
      "Training accuracy: 74.8%\n",
      "Validation accuracy: 72.4%\n",
      "Loss at step 300: 1.636871\n",
      "Training accuracy: 76.3%\n",
      "Validation accuracy: 73.2%\n",
      "Loss at step 400: 1.466987\n",
      "Training accuracy: 77.3%\n",
      "Validation accuracy: 73.7%\n",
      "Loss at step 500: 1.341942\n",
      "Training accuracy: 77.8%\n",
      "Validation accuracy: 74.0%\n",
      "Loss at step 600: 1.244425\n",
      "Training accuracy: 78.2%\n",
      "Validation accuracy: 74.1%\n",
      "Loss at step 700: 1.165596\n",
      "Training accuracy: 78.6%\n",
      "Validation accuracy: 74.2%\n",
      "Loss at step 800: 1.100092\n",
      "Training accuracy: 79.1%\n",
      "Validation accuracy: 74.5%\n",
      "Loss at step 900: 1.044480\n",
      "Training accuracy: 79.8%\n",
      "Validation accuracy: 74.7%\n",
      "Loss at step 1000: 0.996477\n",
      "Training accuracy: 80.1%\n",
      "Validation accuracy: 74.9%\n",
      "Loss at step 1100: 0.954497\n",
      "Training accuracy: 80.4%\n",
      "Validation accuracy: 75.0%\n",
      "Loss at step 1200: 0.917394\n",
      "Training accuracy: 80.8%\n",
      "Validation accuracy: 74.9%\n",
      "Loss at step 1300: 0.884317\n",
      "Training accuracy: 81.2%\n",
      "Validation accuracy: 75.0%\n",
      "Loss at step 1400: 0.854607\n",
      "Training accuracy: 81.6%\n",
      "Validation accuracy: 75.2%\n",
      "Loss at step 1500: 0.827751\n",
      "Training accuracy: 81.8%\n",
      "Validation accuracy: 75.2%\n",
      "Loss at step 1600: 0.803340\n",
      "Training accuracy: 82.1%\n",
      "Validation accuracy: 75.3%\n",
      "Loss at step 1700: 0.781046\n",
      "Training accuracy: 82.4%\n",
      "Validation accuracy: 75.4%\n",
      "Loss at step 1800: 0.760603\n",
      "Training accuracy: 82.7%\n",
      "Validation accuracy: 75.5%\n",
      "Loss at step 1900: 0.741788\n",
      "Training accuracy: 82.9%\n",
      "Validation accuracy: 75.6%\n",
      "Loss at step 2000: 0.724417\n",
      "Training accuracy: 83.1%\n",
      "Validation accuracy: 75.6%\n",
      "Loss at step 2100: 0.708329\n",
      "Training accuracy: 83.4%\n",
      "Validation accuracy: 75.7%\n",
      "Loss at step 2200: 0.693386\n",
      "Training accuracy: 83.5%\n",
      "Validation accuracy: 75.8%\n",
      "Loss at step 2300: 0.679466\n",
      "Training accuracy: 83.7%\n",
      "Validation accuracy: 75.9%\n",
      "Loss at step 2400: 0.666464\n",
      "Training accuracy: 83.8%\n",
      "Validation accuracy: 75.9%\n",
      "Loss at step 2500: 0.654289\n",
      "Training accuracy: 84.0%\n",
      "Validation accuracy: 75.9%\n",
      "Loss at step 2600: 0.642859\n",
      "Training accuracy: 84.2%\n",
      "Validation accuracy: 75.9%\n",
      "Loss at step 2700: 0.632104\n",
      "Training accuracy: 84.4%\n",
      "Validation accuracy: 76.0%\n",
      "Loss at step 2800: 0.621963\n",
      "Training accuracy: 84.5%\n",
      "Validation accuracy: 76.0%\n",
      "Loss at step 2900: 0.612378\n",
      "Training accuracy: 84.7%\n",
      "Validation accuracy: 75.9%\n",
      "Loss at step 3000: 0.603303\n",
      "Training accuracy: 84.9%\n",
      "Validation accuracy: 75.9%\n",
      "Test accuracy: 83.9%\n",
      "Time: 71.49s\n"
     ]
    }
   ],
   "source": [
    "num_steps = 3001\n",
    "\n",
    "def accuracy(predictions, labels):\n",
    "  return (100.0 * np.sum(np.argmax(predictions, 1) == np.argmax(labels, 1))\n",
    "          / predictions.shape[0])\n",
    "\n",
    "t1 = time.time()\n",
    "\n",
    "with tf.Session(graph=graph) as session:\n",
    "  # This is a one-time operation which ensures the parameters get initialized as\n",
    "  # we described in the graph: random weights for the matrix, zeros for the\n",
    "  # biases. \n",
    "  tf.global_variables_initializer().run()\n",
    "  print('Initialized')\n",
    "  for step in range(num_steps):\n",
    "    # Run the computations. We tell .run() that we want to run the optimizer,\n",
    "    # and get the loss value and the training predictions returned as numpy\n",
    "    # arrays.\n",
    "    _, l, predictions = session.run([optimizer, loss, train_prediction])\n",
    "    if (step % 100 == 0):\n",
    "      print('Loss at step %d: %f' % (step, l))\n",
    "      print('Training accuracy: %.1f%%' % accuracy(\n",
    "        predictions, train_labels[:train_subset, :]))\n",
    "      # Calling .eval() on valid_prediction is basically like calling run(), but\n",
    "      # just to get that one numpy array. Note that it recomputes all its graph\n",
    "      # dependencies.\n",
    "      print('Validation accuracy: %.1f%%' % accuracy(\n",
    "        valid_prediction.eval(), valid_labels))\n",
    "  print('Test accuracy: %.1f%%' % accuracy(test_prediction.eval(), test_labels))\n",
    "\n",
    "t2 = time.time()\n",
    "print(\"Time: %0.2fs\" % (t2 - t1))"
   ]
  },
  {
   "cell_type": "markdown",
   "metadata": {},
   "source": [
    "# Now with GPU"
   ]
  },
  {
   "cell_type": "code",
   "execution_count": 7,
   "metadata": {
    "cellView": "both",
    "colab": {
     "autoexec": {
      "startup": false,
      "wait_interval": 0
     }
    },
    "colab_type": "code",
    "collapsed": true,
    "id": "Nfv39qvtvOl_"
   },
   "outputs": [],
   "source": [
    "# With gradient descent training, even this much data is prohibitive.\n",
    "# Subset the training data for faster turnaround.\n",
    "train_subset = 10000\n",
    "\n",
    "graph = tf.Graph()\n",
    "with graph.as_default(), tf.device('/device:GPU:0'):\n",
    "\n",
    "  # Input data.\n",
    "  # Load the training, validation and test data into constants that are\n",
    "  # attached to the graph.\n",
    "  tf_train_dataset = tf.constant(train_dataset[:train_subset, :])\n",
    "  tf_train_labels = tf.constant(train_labels[:train_subset])\n",
    "  tf_valid_dataset = tf.constant(valid_dataset)\n",
    "  tf_test_dataset = tf.constant(test_dataset)\n",
    "  \n",
    "  # Variables.\n",
    "  # These are the parameters that we are going to be training. The weight\n",
    "  # matrix will be initialized using random values following a (truncated)\n",
    "  # normal distribution. The biases get initialized to zero.\n",
    "  weights = tf.Variable(\n",
    "    tf.truncated_normal([image_size * image_size, num_labels]))\n",
    "  biases = tf.Variable(tf.zeros([num_labels]))\n",
    "  \n",
    "  # Training computation.\n",
    "  # We multiply the inputs with the weight matrix, and add biases. We compute\n",
    "  # the softmax and cross-entropy (it's one operation in TensorFlow, because\n",
    "  # it's very common, and it can be optimized). We take the average of this\n",
    "  # cross-entropy across all training examples: that's our loss.\n",
    "  logits = tf.matmul(tf_train_dataset, weights) + biases\n",
    "  loss = tf.reduce_mean(\n",
    "    tf.nn.softmax_cross_entropy_with_logits(labels=tf_train_labels, logits=logits))\n",
    "  \n",
    "  # Optimizer.\n",
    "  # We are going to find the minimum of this loss using gradient descent.\n",
    "  optimizer = tf.train.GradientDescentOptimizer(0.5).minimize(loss)\n",
    "  \n",
    "  # Predictions for the training, validation, and test data.\n",
    "  # These are not part of training, but merely here so that we can report\n",
    "  # accuracy figures as we train.\n",
    "  train_prediction = tf.nn.softmax(logits)\n",
    "  valid_prediction = tf.nn.softmax(\n",
    "    tf.matmul(tf_valid_dataset, weights) + biases)\n",
    "  test_prediction = tf.nn.softmax(tf.matmul(tf_test_dataset, weights) + biases)"
   ]
  },
  {
   "cell_type": "markdown",
   "metadata": {
    "colab_type": "text",
    "id": "KQcL4uqISHjP"
   },
   "source": [
    "Let's run this computation and iterate:"
   ]
  },
  {
   "cell_type": "code",
   "execution_count": 8,
   "metadata": {
    "cellView": "both",
    "colab": {
     "autoexec": {
      "startup": false,
      "wait_interval": 0
     },
     "output_extras": [
      {
       "item_id": 9
      }
     ]
    },
    "colab_type": "code",
    "executionInfo": {
     "elapsed": 57454,
     "status": "ok",
     "timestamp": 1449847994134,
     "user": {
      "color": "",
      "displayName": "",
      "isAnonymous": false,
      "isMe": true,
      "permissionId": "",
      "photoUrl": "",
      "sessionId": "0",
      "userId": ""
     },
     "user_tz": 480
    },
    "id": "z2cjdenH869W",
    "outputId": "4c037ba1-b526-4d8e-e632-91e2a0333267"
   },
   "outputs": [
    {
     "name": "stdout",
     "output_type": "stream",
     "text": [
      "Initialized\n",
      "Loss at step 0: 16.923912\n",
      "Training accuracy: 7.6%\n",
      "Validation accuracy: 11.1%\n",
      "Loss at step 100: 2.363658\n",
      "Training accuracy: 71.6%\n",
      "Validation accuracy: 70.2%\n",
      "Loss at step 200: 1.872816\n",
      "Training accuracy: 74.6%\n",
      "Validation accuracy: 73.0%\n",
      "Loss at step 300: 1.614768\n",
      "Training accuracy: 76.2%\n",
      "Validation accuracy: 73.7%\n",
      "Loss at step 400: 1.445541\n",
      "Training accuracy: 77.3%\n",
      "Validation accuracy: 74.2%\n",
      "Loss at step 500: 1.321641\n",
      "Training accuracy: 78.0%\n",
      "Validation accuracy: 74.6%\n",
      "Loss at step 600: 1.224856\n",
      "Training accuracy: 78.5%\n",
      "Validation accuracy: 74.6%\n",
      "Loss at step 700: 1.146111\n",
      "Training accuracy: 79.1%\n",
      "Validation accuracy: 74.7%\n",
      "Loss at step 800: 1.080324\n",
      "Training accuracy: 79.6%\n",
      "Validation accuracy: 74.8%\n",
      "Loss at step 900: 1.024331\n",
      "Training accuracy: 80.2%\n",
      "Validation accuracy: 74.8%\n",
      "Loss at step 1000: 0.975975\n",
      "Training accuracy: 80.7%\n",
      "Validation accuracy: 75.0%\n",
      "Loss at step 1100: 0.933695\n",
      "Training accuracy: 81.0%\n",
      "Validation accuracy: 75.1%\n",
      "Loss at step 1200: 0.896348\n",
      "Training accuracy: 81.2%\n",
      "Validation accuracy: 75.0%\n",
      "Loss at step 1300: 0.863096\n",
      "Training accuracy: 81.6%\n",
      "Validation accuracy: 75.0%\n",
      "Loss at step 1400: 0.833307\n",
      "Training accuracy: 82.0%\n",
      "Validation accuracy: 75.2%\n",
      "Loss at step 1500: 0.806479\n",
      "Training accuracy: 82.2%\n",
      "Validation accuracy: 75.2%\n",
      "Loss at step 1600: 0.782194\n",
      "Training accuracy: 82.6%\n",
      "Validation accuracy: 75.4%\n",
      "Loss at step 1700: 0.760101\n",
      "Training accuracy: 82.9%\n",
      "Validation accuracy: 75.5%\n",
      "Loss at step 1800: 0.739911\n",
      "Training accuracy: 82.9%\n",
      "Validation accuracy: 75.5%\n",
      "Loss at step 1900: 0.721382\n",
      "Training accuracy: 83.2%\n",
      "Validation accuracy: 75.5%\n",
      "Loss at step 2000: 0.704314\n",
      "Training accuracy: 83.5%\n",
      "Validation accuracy: 75.6%\n",
      "Loss at step 2100: 0.688536\n",
      "Training accuracy: 83.7%\n",
      "Validation accuracy: 75.7%\n",
      "Loss at step 2200: 0.673904\n",
      "Training accuracy: 84.0%\n",
      "Validation accuracy: 75.7%\n",
      "Loss at step 2300: 0.660295\n",
      "Training accuracy: 84.2%\n",
      "Validation accuracy: 75.7%\n",
      "Loss at step 2400: 0.647602\n",
      "Training accuracy: 84.5%\n",
      "Validation accuracy: 75.8%\n",
      "Loss at step 2500: 0.635732\n",
      "Training accuracy: 84.7%\n",
      "Validation accuracy: 75.8%\n",
      "Loss at step 2600: 0.624604\n",
      "Training accuracy: 84.9%\n",
      "Validation accuracy: 75.8%\n",
      "Loss at step 2700: 0.614149\n",
      "Training accuracy: 85.0%\n",
      "Validation accuracy: 75.9%\n",
      "Loss at step 2800: 0.604304\n",
      "Training accuracy: 85.1%\n",
      "Validation accuracy: 76.0%\n",
      "Loss at step 2900: 0.595016\n",
      "Training accuracy: 85.3%\n",
      "Validation accuracy: 76.1%\n",
      "Loss at step 3000: 0.586237\n",
      "Training accuracy: 85.5%\n",
      "Validation accuracy: 76.1%\n",
      "Test accuracy: 83.8%\n",
      "Time: 7.74s\n"
     ]
    }
   ],
   "source": [
    "num_steps = 3001\n",
    "\n",
    "def accuracy(predictions, labels):\n",
    "  return (100.0 * np.sum(np.argmax(predictions, 1) == np.argmax(labels, 1))\n",
    "          / predictions.shape[0])\n",
    "\n",
    "t1 = time.time()\n",
    "\n",
    "with tf.Session(graph=graph) as session:\n",
    "  # This is a one-time operation which ensures the parameters get initialized as\n",
    "  # we described in the graph: random weights for the matrix, zeros for the\n",
    "  # biases. \n",
    "  tf.global_variables_initializer().run()\n",
    "  print('Initialized')\n",
    "  for step in range(num_steps):\n",
    "    # Run the computations. We tell .run() that we want to run the optimizer,\n",
    "    # and get the loss value and the training predictions returned as numpy\n",
    "    # arrays.\n",
    "    _, l, predictions = session.run([optimizer, loss, train_prediction])\n",
    "    if (step % 100 == 0):\n",
    "      print('Loss at step %d: %f' % (step, l))\n",
    "      print('Training accuracy: %.1f%%' % accuracy(\n",
    "        predictions, train_labels[:train_subset, :]))\n",
    "      # Calling .eval() on valid_prediction is basically like calling run(), but\n",
    "      # just to get that one numpy array. Note that it recomputes all its graph\n",
    "      # dependencies.\n",
    "      print('Validation accuracy: %.1f%%' % accuracy(\n",
    "        valid_prediction.eval(), valid_labels))\n",
    "  print('Test accuracy: %.1f%%' % accuracy(test_prediction.eval(), test_labels))\n",
    "\n",
    "t2 = time.time()\n",
    "print(\"Time: %0.2fs\" % (t2 - t1))"
   ]
  },
  {
   "cell_type": "code",
   "execution_count": null,
   "metadata": {
    "collapsed": true
   },
   "outputs": [],
   "source": []
  }
 ],
 "metadata": {
  "kernelspec": {
   "display_name": "Python 3",
   "language": "python",
   "name": "python3"
  },
  "language_info": {
   "codemirror_mode": {
    "name": "ipython",
    "version": 3
   },
   "file_extension": ".py",
   "mimetype": "text/x-python",
   "name": "python",
   "nbconvert_exporter": "python",
   "pygments_lexer": "ipython3",
   "version": "3.5.3"
  }
 },
 "nbformat": 4,
 "nbformat_minor": 1
}
